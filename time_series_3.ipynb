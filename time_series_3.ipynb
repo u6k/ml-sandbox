{
  "nbformat": 4,
  "nbformat_minor": 0,
  "metadata": {
    "colab": {
      "name": "time-series.3.ipynb",
      "version": "0.3.2",
      "provenance": [],
      "include_colab_link": true
    },
    "kernelspec": {
      "name": "python3",
      "display_name": "Python 3"
    }
  },
  "cells": [
    {
      "cell_type": "markdown",
      "metadata": {
        "id": "view-in-github",
        "colab_type": "text"
      },
      "source": [
        "<a href=\"https://colab.research.google.com/github/u6k/ml-sandbox/blob/master/time_series_3.ipynb\" target=\"_parent\"><img src=\"https://colab.research.google.com/assets/colab-badge.svg\" alt=\"Open In Colab\"/></a>"
      ]
    },
    {
      "metadata": {
        "id": "HT5rFgy-6VAA",
        "colab_type": "code",
        "outputId": "755f5381-9252-47c5-ba8e-4b910cb7f179",
        "colab": {
          "base_uri": "https://localhost:8080/",
          "height": 124
        }
      },
      "cell_type": "code",
      "source": [
        "from google.colab import drive\n",
        "drive.mount(\"/content/drive\")"
      ],
      "execution_count": 1,
      "outputs": [
        {
          "output_type": "stream",
          "text": [
            "Go to this URL in a browser: https://accounts.google.com/o/oauth2/auth?client_id=947318989803-6bn6qk8qdgf4n4g3pfee6491hc0brc4i.apps.googleusercontent.com&redirect_uri=urn%3Aietf%3Awg%3Aoauth%3A2.0%3Aoob&scope=email%20https%3A%2F%2Fwww.googleapis.com%2Fauth%2Fdocs.test%20https%3A%2F%2Fwww.googleapis.com%2Fauth%2Fdrive%20https%3A%2F%2Fwww.googleapis.com%2Fauth%2Fdrive.photos.readonly%20https%3A%2F%2Fwww.googleapis.com%2Fauth%2Fpeopleapi.readonly&response_type=code\n",
            "\n",
            "Enter your authorization code:\n",
            "··········\n",
            "Mounted at /content/drive\n"
          ],
          "name": "stdout"
        }
      ]
    },
    {
      "metadata": {
        "id": "7qHSIY51LXvu",
        "colab_type": "code",
        "colab": {
          "base_uri": "https://localhost:8080/",
          "height": 639
        },
        "outputId": "b6491bb9-3b6a-458f-dc89-59ea649576bf"
      },
      "cell_type": "code",
      "source": [
        "import pandas as pd\n",
        "\n",
        "df = pd.read_csv(\"drive/My Drive/ml_data/stock_prices.csv\")\n",
        "\n",
        "df.info()\n",
        "df.head()"
      ],
      "execution_count": 3,
      "outputs": [
        {
          "output_type": "stream",
          "text": [
            "<class 'pandas.core.frame.DataFrame'>\n",
            "RangeIndex: 92833 entries, 0 to 92832\n",
            "Data columns (total 9 columns):\n",
            "id                  92833 non-null int64\n",
            "ticker_symbol       92833 non-null int64\n",
            "date                92833 non-null object\n",
            "opening_price       92833 non-null int64\n",
            "high_price          92833 non-null int64\n",
            "low_price           92833 non-null int64\n",
            "close_price         92833 non-null int64\n",
            "turnover            92833 non-null int64\n",
            "adjustment_value    92833 non-null int64\n",
            "dtypes: int64(8), object(1)\n",
            "memory usage: 6.4+ MB\n"
          ],
          "name": "stdout"
        },
        {
          "output_type": "execute_result",
          "data": {
            "text/html": [
              "<div>\n",
              "<style scoped>\n",
              "    .dataframe tbody tr th:only-of-type {\n",
              "        vertical-align: middle;\n",
              "    }\n",
              "\n",
              "    .dataframe tbody tr th {\n",
              "        vertical-align: top;\n",
              "    }\n",
              "\n",
              "    .dataframe thead th {\n",
              "        text-align: right;\n",
              "    }\n",
              "</style>\n",
              "<table border=\"1\" class=\"dataframe\">\n",
              "  <thead>\n",
              "    <tr style=\"text-align: right;\">\n",
              "      <th></th>\n",
              "      <th>id</th>\n",
              "      <th>ticker_symbol</th>\n",
              "      <th>date</th>\n",
              "      <th>opening_price</th>\n",
              "      <th>high_price</th>\n",
              "      <th>low_price</th>\n",
              "      <th>close_price</th>\n",
              "      <th>turnover</th>\n",
              "      <th>adjustment_value</th>\n",
              "    </tr>\n",
              "  </thead>\n",
              "  <tbody>\n",
              "    <tr>\n",
              "      <th>0</th>\n",
              "      <td>1</td>\n",
              "      <td>1301</td>\n",
              "      <td>2019-04-11 00:00:00</td>\n",
              "      <td>2821</td>\n",
              "      <td>2830</td>\n",
              "      <td>2789</td>\n",
              "      <td>2790</td>\n",
              "      <td>20500</td>\n",
              "      <td>2790</td>\n",
              "    </tr>\n",
              "    <tr>\n",
              "      <th>1</th>\n",
              "      <td>2</td>\n",
              "      <td>1301</td>\n",
              "      <td>2019-04-10 00:00:00</td>\n",
              "      <td>2751</td>\n",
              "      <td>2845</td>\n",
              "      <td>2732</td>\n",
              "      <td>2832</td>\n",
              "      <td>59200</td>\n",
              "      <td>2832</td>\n",
              "    </tr>\n",
              "    <tr>\n",
              "      <th>2</th>\n",
              "      <td>3</td>\n",
              "      <td>1301</td>\n",
              "      <td>2019-04-09 00:00:00</td>\n",
              "      <td>2759</td>\n",
              "      <td>2768</td>\n",
              "      <td>2748</td>\n",
              "      <td>2768</td>\n",
              "      <td>24700</td>\n",
              "      <td>2768</td>\n",
              "    </tr>\n",
              "    <tr>\n",
              "      <th>3</th>\n",
              "      <td>4</td>\n",
              "      <td>1301</td>\n",
              "      <td>2019-04-05 00:00:00</td>\n",
              "      <td>2763</td>\n",
              "      <td>2789</td>\n",
              "      <td>2759</td>\n",
              "      <td>2771</td>\n",
              "      <td>23400</td>\n",
              "      <td>2771</td>\n",
              "    </tr>\n",
              "    <tr>\n",
              "      <th>4</th>\n",
              "      <td>5</td>\n",
              "      <td>1301</td>\n",
              "      <td>2019-04-04 00:00:00</td>\n",
              "      <td>2793</td>\n",
              "      <td>2801</td>\n",
              "      <td>2766</td>\n",
              "      <td>2770</td>\n",
              "      <td>32700</td>\n",
              "      <td>2770</td>\n",
              "    </tr>\n",
              "  </tbody>\n",
              "</table>\n",
              "</div>"
            ],
            "text/plain": [
              "   id  ticker_symbol                 date  opening_price  high_price  \\\n",
              "0   1           1301  2019-04-11 00:00:00           2821        2830   \n",
              "1   2           1301  2019-04-10 00:00:00           2751        2845   \n",
              "2   3           1301  2019-04-09 00:00:00           2759        2768   \n",
              "3   4           1301  2019-04-05 00:00:00           2763        2789   \n",
              "4   5           1301  2019-04-04 00:00:00           2793        2801   \n",
              "\n",
              "   low_price  close_price  turnover  adjustment_value  \n",
              "0       2789         2790     20500              2790  \n",
              "1       2732         2832     59200              2832  \n",
              "2       2748         2768     24700              2768  \n",
              "3       2759         2771     23400              2771  \n",
              "4       2766         2770     32700              2770  "
            ]
          },
          "metadata": {
            "tags": []
          },
          "execution_count": 3
        }
      ]
    },
    {
      "metadata": {
        "id": "hF_MG6cZ6VEX",
        "colab_type": "text"
      },
      "cell_type": "markdown",
      "source": [
        ""
      ]
    }
  ]
}