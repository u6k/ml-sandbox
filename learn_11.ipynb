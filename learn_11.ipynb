{
  "nbformat": 4,
  "nbformat_minor": 0,
  "metadata": {
    "colab": {
      "name": "learn.11.ipynb",
      "version": "0.3.2",
      "provenance": [],
      "collapsed_sections": [],
      "include_colab_link": true
    },
    "kernelspec": {
      "name": "python3",
      "display_name": "Python 3"
    },
    "accelerator": "GPU"
  },
  "cells": [
    {
      "cell_type": "markdown",
      "metadata": {
        "id": "view-in-github",
        "colab_type": "text"
      },
      "source": [
        "<a href=\"https://colab.research.google.com/github/u6k/ml-sandbox/blob/master/learn_11.ipynb\" target=\"_parent\"><img src=\"https://colab.research.google.com/assets/colab-badge.svg\" alt=\"Open In Colab\"/></a>"
      ]
    },
    {
      "cell_type": "code",
      "metadata": {
        "id": "euO8AXq-b-TK",
        "colab_type": "code",
        "colab": {}
      },
      "source": [
        "from google.colab import drive\n",
        "drive.mount(\"/content/drive\")"
      ],
      "execution_count": 0,
      "outputs": []
    },
    {
      "cell_type": "code",
      "metadata": {
        "id": "S0MjwqCERNyQ",
        "colab_type": "code",
        "colab": {}
      },
      "source": [
        "!pip install comet_ml"
      ],
      "execution_count": 0,
      "outputs": []
    },
    {
      "cell_type": "code",
      "metadata": {
        "id": "R3L4xCuol0G7",
        "colab_type": "code",
        "colab": {}
      },
      "source": [
        "from comet_ml import Experiment\n",
        "\n",
        "experiment = Experiment(api_key=COMET_ML_API_KEY, project_name=\"learn-stocks.11\")"
      ],
      "execution_count": 0,
      "outputs": []
    },
    {
      "cell_type": "code",
      "metadata": {
        "id": "vMM9MGwZcF5C",
        "colab_type": "code",
        "colab": {}
      },
      "source": [
        "# CSVを読み込む\n",
        "\n",
        "import pandas as pd\n",
        "\n",
        "df_csv = pd.read_csv(\"drive/My Drive/projects/ml_data/stocks/nikkei_averages.csv\", index_col=0)\n",
        "df_csv"
      ],
      "execution_count": 0,
      "outputs": []
    },
    {
      "cell_type": "code",
      "metadata": {
        "id": "oGxc2V0R2of_",
        "colab_type": "code",
        "colab": {}
      },
      "source": [
        "import numpy as np\n",
        "\n",
        "df = df_csv.copy()\n",
        "\n",
        "df = df[[\"date\", \"opening_price\", \"high_price\", \"low_price\", \"close_price\"]]\n",
        "df = df.sort_values(\"date\")\n",
        "df = df.drop_duplicates()\n",
        "df = df.assign(id=np.arange(len(df)))\n",
        "df = df.set_index(\"id\")\n",
        "\n",
        "# updown\n",
        "updown = [np.nan]\n",
        "for id in df[:-1].index:\n",
        "  if df.at[id+1, \"close_price\"] > df.at[id, \"close_price\"]:\n",
        "    updown.append(1)\n",
        "  else:\n",
        "    updown.append(0)\n",
        "\n",
        "df = df.assign(updown=updown)\n",
        "\n",
        "# return index\n",
        "returns = df[\"close_price\"].pct_change()\n",
        "return_index = (1 + returns).cumprod()\n",
        "\n",
        "df = df.assign(return_index=return_index)\n",
        "\n",
        "df"
      ],
      "execution_count": 0,
      "outputs": []
    },
    {
      "cell_type": "code",
      "metadata": {
        "id": "oIRdv4hmusZx",
        "colab_type": "code",
        "colab": {}
      },
      "source": [
        "x, y = [], []\n",
        "\n",
        "for i in range(1, 1001):\n",
        "  x.append(df[-i-31:-i-1][\"return_index\"].values)\n",
        "  y.append(int(df[-i-1:-i][\"updown\"].values))\n",
        "\n",
        "print(x)\n",
        "print(y)"
      ],
      "execution_count": 0,
      "outputs": []
    },
    {
      "cell_type": "code",
      "metadata": {
        "id": "dWsFz0BXwOz2",
        "colab_type": "code",
        "colab": {}
      },
      "source": [
        "from sklearn.model_selection import train_test_split\n",
        "\n",
        "x_train, x_test, y_train, y_test = train_test_split(x, y)\n",
        "\n",
        "print(\"x_train.len:\", len(x_train))\n",
        "print(\"x_test.len:\", len(x_test))\n",
        "print(\"y_train.len:\", len(y_train))\n",
        "print(\"y_test.len:\", len(y_test))"
      ],
      "execution_count": 0,
      "outputs": []
    },
    {
      "cell_type": "code",
      "metadata": {
        "id": "_aGmlwOhwkiq",
        "colab_type": "code",
        "colab": {}
      },
      "source": [
        "from sklearn import ensemble, metrics, model_selection\n",
        "\n",
        "parameters = {\n",
        "    \"n_estimators\": [10, 100, 200],\n",
        "    \"criterion\": [\"gini\", \"entropy\"],\n",
        "    \"max_depth\": [2, 4, 8, 16, 32, 64],\n",
        "    \"random_state\": [1, 2, 3],\n",
        "    \"class_weight\": [\"balanced\"]\n",
        "}\n",
        "\n",
        "experiment.log_parameters(parameters)\n",
        "\n",
        "clf = model_selection.GridSearchCV(ensemble.RandomForestClassifier(),\n",
        "                                   parameters,\n",
        "                                   cv=5,\n",
        "                                   n_jobs=-1,\n",
        "                                   verbose=3)\n",
        "\n",
        "clf_fit = clf.fit(x_train, y_train)"
      ],
      "execution_count": 0,
      "outputs": []
    },
    {
      "cell_type": "code",
      "metadata": {
        "id": "o6kvinsQ-t4g",
        "colab_type": "code",
        "colab": {}
      },
      "source": [
        "best_params = clf.best_params_\n",
        "\n",
        "experiment.log_metrics(best_params)\n",
        "\n",
        "best_params"
      ],
      "execution_count": 0,
      "outputs": []
    },
    {
      "cell_type": "code",
      "metadata": {
        "id": "UfdLCBGVxcxw",
        "colab_type": "code",
        "colab": {}
      },
      "source": [
        "clf_best = clf.best_estimator_\n",
        "\n",
        "result = clf_best.predict(x_test)\n",
        "ac_score=metrics.accuracy_score(y_test, result)\n",
        "\n",
        "experiment.log_metric(\"accuracy_score\", ac_score)\n",
        "\n",
        "print(ac_score)"
      ],
      "execution_count": 0,
      "outputs": []
    },
    {
      "cell_type": "code",
      "metadata": {
        "id": "lX12tiPK_bsU",
        "colab_type": "code",
        "colab": {}
      },
      "source": [
        "experiment.end()"
      ],
      "execution_count": 0,
      "outputs": []
    }
  ]
}