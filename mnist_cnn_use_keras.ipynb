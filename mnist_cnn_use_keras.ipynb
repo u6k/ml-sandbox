{
  "nbformat": 4,
  "nbformat_minor": 0,
  "metadata": {
    "colab": {
      "name": "mnist-cnn-use-keras.ipynb",
      "version": "0.3.2",
      "provenance": [],
      "include_colab_link": true
    },
    "kernelspec": {
      "name": "python3",
      "display_name": "Python 3"
    },
    "accelerator": "GPU"
  },
  "cells": [
    {
      "cell_type": "markdown",
      "metadata": {
        "id": "view-in-github",
        "colab_type": "text"
      },
      "source": [
        "<a href=\"https://colab.research.google.com/github/u6k/ml-sandbox/blob/master/mnist_cnn_use_keras.ipynb\" target=\"_parent\"><img src=\"https://colab.research.google.com/assets/colab-badge.svg\" alt=\"Open In Colab\"/></a>"
      ]
    },
    {
      "metadata": {
        "id": "EStGPJSGHTm5",
        "colab_type": "text"
      },
      "cell_type": "markdown",
      "source": [
        "趣味でディープラーニングするための GPU 環境を安上がりに作る方法 - Qiita https://qiita.com/hoto17296/items/16f57b319a0293bd2688"
      ]
    },
    {
      "metadata": {
        "id": "wSJ8kBz5HJZ9",
        "colab_type": "code",
        "outputId": "e285b849-1ed7-4e3b-dd72-e62fa46658ac",
        "colab": {
          "base_uri": "https://localhost:8080/",
          "height": 1227
        }
      },
      "cell_type": "code",
      "source": [
        "!wget https://raw.githubusercontent.com/fchollet/keras/master/examples/mnist_cnn.py\n",
        "!python mnist_cnn.py"
      ],
      "execution_count": 2,
      "outputs": [
        {
          "output_type": "stream",
          "text": [
            "--2019-04-19 06:06:07--  https://raw.githubusercontent.com/fchollet/keras/master/examples/mnist_cnn.py\n",
            "Resolving raw.githubusercontent.com (raw.githubusercontent.com)... 151.101.0.133, 151.101.64.133, 151.101.128.133, ...\n",
            "Connecting to raw.githubusercontent.com (raw.githubusercontent.com)|151.101.0.133|:443... connected.\n",
            "HTTP request sent, awaiting response... 200 OK\n",
            "Length: 2257 (2.2K) [text/plain]\n",
            "Saving to: ‘mnist_cnn.py.1’\n",
            "\n",
            "\rmnist_cnn.py.1        0%[                    ]       0  --.-KB/s               \rmnist_cnn.py.1      100%[===================>]   2.20K  --.-KB/s    in 0s      \n",
            "\n",
            "2019-04-19 06:06:07 (50.8 MB/s) - ‘mnist_cnn.py.1’ saved [2257/2257]\n",
            "\n",
            "Using TensorFlow backend.\n",
            "x_train shape: (60000, 28, 28, 1)\n",
            "60000 train samples\n",
            "10000 test samples\n",
            "WARNING:tensorflow:From /usr/local/lib/python3.6/dist-packages/tensorflow/python/framework/op_def_library.py:263: colocate_with (from tensorflow.python.framework.ops) is deprecated and will be removed in a future version.\n",
            "Instructions for updating:\n",
            "Colocations handled automatically by placer.\n",
            "WARNING:tensorflow:From /usr/local/lib/python3.6/dist-packages/keras/backend/tensorflow_backend.py:3445: calling dropout (from tensorflow.python.ops.nn_ops) with keep_prob is deprecated and will be removed in a future version.\n",
            "Instructions for updating:\n",
            "Please use `rate` instead of `keep_prob`. Rate should be set to `rate = 1 - keep_prob`.\n",
            "WARNING:tensorflow:From /usr/local/lib/python3.6/dist-packages/tensorflow/python/ops/math_ops.py:3066: to_int32 (from tensorflow.python.ops.math_ops) is deprecated and will be removed in a future version.\n",
            "Instructions for updating:\n",
            "Use tf.cast instead.\n",
            "Train on 60000 samples, validate on 10000 samples\n",
            "Epoch 1/12\n",
            "2019-04-19 06:06:11.493781: I tensorflow/core/platform/profile_utils/cpu_utils.cc:94] CPU Frequency: 2300000000 Hz\n",
            "2019-04-19 06:06:11.493983: I tensorflow/compiler/xla/service/service.cc:150] XLA service 0x29671e0 executing computations on platform Host. Devices:\n",
            "2019-04-19 06:06:11.494013: I tensorflow/compiler/xla/service/service.cc:158]   StreamExecutor device (0): <undefined>, <undefined>\n",
            "2019-04-19 06:06:11.649179: I tensorflow/stream_executor/cuda/cuda_gpu_executor.cc:998] successful NUMA node read from SysFS had negative value (-1), but there must be at least one NUMA node, so returning NUMA node zero\n",
            "2019-04-19 06:06:11.649724: I tensorflow/compiler/xla/service/service.cc:150] XLA service 0x2966dc0 executing computations on platform CUDA. Devices:\n",
            "2019-04-19 06:06:11.649769: I tensorflow/compiler/xla/service/service.cc:158]   StreamExecutor device (0): Tesla T4, Compute Capability 7.5\n",
            "2019-04-19 06:06:11.650106: I tensorflow/core/common_runtime/gpu/gpu_device.cc:1433] Found device 0 with properties: \n",
            "name: Tesla T4 major: 7 minor: 5 memoryClockRate(GHz): 1.59\n",
            "pciBusID: 0000:00:04.0\n",
            "totalMemory: 14.73GiB freeMemory: 14.60GiB\n",
            "2019-04-19 06:06:11.650129: I tensorflow/core/common_runtime/gpu/gpu_device.cc:1512] Adding visible gpu devices: 0\n",
            "2019-04-19 06:06:12.085933: I tensorflow/core/common_runtime/gpu/gpu_device.cc:984] Device interconnect StreamExecutor with strength 1 edge matrix:\n",
            "2019-04-19 06:06:12.085994: I tensorflow/core/common_runtime/gpu/gpu_device.cc:990]      0 \n",
            "2019-04-19 06:06:12.086006: I tensorflow/core/common_runtime/gpu/gpu_device.cc:1003] 0:   N \n",
            "2019-04-19 06:06:12.086247: W tensorflow/core/common_runtime/gpu/gpu_bfc_allocator.cc:42] Overriding allow_growth setting because the TF_FORCE_GPU_ALLOW_GROWTH environment variable is set. Original config value was 0.\n",
            "2019-04-19 06:06:12.086299: I tensorflow/core/common_runtime/gpu/gpu_device.cc:1115] Created TensorFlow device (/job:localhost/replica:0/task:0/device:GPU:0 with 14115 MB memory) -> physical GPU (device: 0, name: Tesla T4, pci bus id: 0000:00:04.0, compute capability: 7.5)\n",
            "2019-04-19 06:06:12.368728: I tensorflow/stream_executor/dso_loader.cc:152] successfully opened CUDA library libcublas.so.10.0 locally\n",
            "60000/60000 [==============================] - 7s 117us/step - loss: 0.2672 - acc: 0.9191 - val_loss: 0.0536 - val_acc: 0.9836\n",
            "Epoch 2/12\n",
            "60000/60000 [==============================] - 4s 72us/step - loss: 0.0904 - acc: 0.9731 - val_loss: 0.0387 - val_acc: 0.9874\n",
            "Epoch 3/12\n",
            "60000/60000 [==============================] - 4s 72us/step - loss: 0.0657 - acc: 0.9808 - val_loss: 0.0344 - val_acc: 0.9880\n",
            "Epoch 4/12\n",
            "60000/60000 [==============================] - 4s 71us/step - loss: 0.0531 - acc: 0.9841 - val_loss: 0.0324 - val_acc: 0.9880\n",
            "Epoch 5/12\n",
            "60000/60000 [==============================] - 4s 72us/step - loss: 0.0460 - acc: 0.9860 - val_loss: 0.0291 - val_acc: 0.9890\n",
            "Epoch 6/12\n",
            "60000/60000 [==============================] - 4s 75us/step - loss: 0.0414 - acc: 0.9881 - val_loss: 0.0296 - val_acc: 0.9891\n",
            "Epoch 7/12\n",
            "60000/60000 [==============================] - 4s 75us/step - loss: 0.0370 - acc: 0.9888 - val_loss: 0.0290 - val_acc: 0.9897\n",
            "Epoch 8/12\n",
            "60000/60000 [==============================] - 4s 73us/step - loss: 0.0350 - acc: 0.9895 - val_loss: 0.0287 - val_acc: 0.9920\n",
            "Epoch 9/12\n",
            "60000/60000 [==============================] - 4s 72us/step - loss: 0.0325 - acc: 0.9905 - val_loss: 0.0263 - val_acc: 0.9914\n",
            "Epoch 10/12\n",
            "60000/60000 [==============================] - 4s 73us/step - loss: 0.0298 - acc: 0.9914 - val_loss: 0.0244 - val_acc: 0.9914\n",
            "Epoch 11/12\n",
            "60000/60000 [==============================] - 4s 72us/step - loss: 0.0279 - acc: 0.9912 - val_loss: 0.0247 - val_acc: 0.9918\n",
            "Epoch 12/12\n",
            "60000/60000 [==============================] - 4s 72us/step - loss: 0.0241 - acc: 0.9925 - val_loss: 0.0281 - val_acc: 0.9907\n",
            "Test loss: 0.028149350904567383\n",
            "Test accuracy: 0.9907\n"
          ],
          "name": "stdout"
        }
      ]
    }
  ]
}