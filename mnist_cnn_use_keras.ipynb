{
  "nbformat": 4,
  "nbformat_minor": 0,
  "metadata": {
    "colab": {
      "name": "mnist-cnn-use-keras.ipynb",
      "version": "0.3.2",
      "provenance": [],
      "include_colab_link": true
    },
    "kernelspec": {
      "name": "python3",
      "display_name": "Python 3"
    }
  },
  "cells": [
    {
      "cell_type": "markdown",
      "metadata": {
        "id": "view-in-github",
        "colab_type": "text"
      },
      "source": [
        "<a href=\"https://colab.research.google.com/github/u6k/ml-sandbox/blob/master/mnist_cnn_use_keras.ipynb\" target=\"_parent\"><img src=\"https://colab.research.google.com/assets/colab-badge.svg\" alt=\"Open In Colab\"/></a>"
      ]
    },
    {
      "metadata": {
        "id": "EStGPJSGHTm5",
        "colab_type": "text"
      },
      "cell_type": "markdown",
      "source": [
        "趣味でディープラーニングするための GPU 環境を安上がりに作る方法 - Qiita https://qiita.com/hoto17296/items/16f57b319a0293bd2688"
      ]
    },
    {
      "metadata": {
        "id": "wSJ8kBz5HJZ9",
        "colab_type": "code",
        "colab": {
          "base_uri": "https://localhost:8080/",
          "height": 817
        },
        "outputId": "da4b7754-0b92-448e-cf6e-fa42b4229474"
      },
      "cell_type": "code",
      "source": [
        "!wget https://raw.githubusercontent.com/fchollet/keras/master/examples/mnist_cnn.py\n",
        "!python mnist_cnn.py"
      ],
      "execution_count": 0,
      "outputs": [
        {
          "output_type": "stream",
          "text": [
            "--2019-04-19 05:42:02--  https://raw.githubusercontent.com/fchollet/keras/master/examples/mnist_cnn.py\n",
            "Resolving raw.githubusercontent.com (raw.githubusercontent.com)... 151.101.0.133, 151.101.64.133, 151.101.128.133, ...\n",
            "Connecting to raw.githubusercontent.com (raw.githubusercontent.com)|151.101.0.133|:443... connected.\n",
            "HTTP request sent, awaiting response... 200 OK\n",
            "Length: 2257 (2.2K) [text/plain]\n",
            "Saving to: ‘mnist_cnn.py’\n",
            "\n",
            "mnist_cnn.py        100%[===================>]   2.20K  --.-KB/s    in 0s      \n",
            "\n",
            "2019-04-19 05:42:07 (44.7 MB/s) - ‘mnist_cnn.py’ saved [2257/2257]\n",
            "\n",
            "Using TensorFlow backend.\n",
            "Downloading data from https://s3.amazonaws.com/img-datasets/mnist.npz\n",
            "11493376/11490434 [==============================] - 1s 0us/step\n",
            "x_train shape: (60000, 28, 28, 1)\n",
            "60000 train samples\n",
            "10000 test samples\n",
            "WARNING:tensorflow:From /usr/local/lib/python3.6/dist-packages/tensorflow/python/framework/op_def_library.py:263: colocate_with (from tensorflow.python.framework.ops) is deprecated and will be removed in a future version.\n",
            "Instructions for updating:\n",
            "Colocations handled automatically by placer.\n",
            "WARNING:tensorflow:From /usr/local/lib/python3.6/dist-packages/keras/backend/tensorflow_backend.py:3445: calling dropout (from tensorflow.python.ops.nn_ops) with keep_prob is deprecated and will be removed in a future version.\n",
            "Instructions for updating:\n",
            "Please use `rate` instead of `keep_prob`. Rate should be set to `rate = 1 - keep_prob`.\n",
            "WARNING:tensorflow:From /usr/local/lib/python3.6/dist-packages/tensorflow/python/ops/math_ops.py:3066: to_int32 (from tensorflow.python.ops.math_ops) is deprecated and will be removed in a future version.\n",
            "Instructions for updating:\n",
            "Use tf.cast instead.\n",
            "Train on 60000 samples, validate on 10000 samples\n",
            "Epoch 1/12\n",
            "2019-04-19 05:42:13.273989: I tensorflow/core/platform/profile_utils/cpu_utils.cc:94] CPU Frequency: 2200000000 Hz\n",
            "2019-04-19 05:42:13.277925: I tensorflow/compiler/xla/service/service.cc:150] XLA service 0x2063340 executing computations on platform Host. Devices:\n",
            "2019-04-19 05:42:13.277975: I tensorflow/compiler/xla/service/service.cc:158]   StreamExecutor device (0): <undefined>, <undefined>\n",
            "60000/60000 [==============================] - 159s 3ms/step - loss: 0.2618 - acc: 0.9218 - val_loss: 0.0550 - val_acc: 0.9821\n",
            "Epoch 2/12\n",
            "60000/60000 [==============================] - 157s 3ms/step - loss: 0.0884 - acc: 0.9734 - val_loss: 0.0421 - val_acc: 0.9851\n",
            "Epoch 3/12\n",
            "60000/60000 [==============================] - 157s 3ms/step - loss: 0.0640 - acc: 0.9807 - val_loss: 0.0331 - val_acc: 0.9884\n",
            "Epoch 4/12\n",
            "60000/60000 [==============================] - 157s 3ms/step - loss: 0.0539 - acc: 0.9846 - val_loss: 0.0352 - val_acc: 0.9885\n",
            "Epoch 5/12\n",
            "60000/60000 [==============================] - 157s 3ms/step - loss: 0.0477 - acc: 0.9853 - val_loss: 0.0326 - val_acc: 0.9885\n",
            "Epoch 6/12\n",
            "60000/60000 [==============================] - 157s 3ms/step - loss: 0.0417 - acc: 0.9873 - val_loss: 0.0322 - val_acc: 0.9889\n",
            "Epoch 7/12\n",
            "35200/60000 [================>.............] - ETA: 1:02 - loss: 0.0370 - acc: 0.9888"
          ],
          "name": "stdout"
        }
      ]
    }
  ]
}