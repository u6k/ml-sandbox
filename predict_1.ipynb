{
  "nbformat": 4,
  "nbformat_minor": 0,
  "metadata": {
    "colab": {
      "name": "predict.1.ipynb",
      "version": "0.3.2",
      "provenance": [],
      "collapsed_sections": [],
      "include_colab_link": true
    },
    "kernelspec": {
      "name": "python3",
      "display_name": "Python 3"
    },
    "accelerator": "GPU"
  },
  "cells": [
    {
      "cell_type": "markdown",
      "metadata": {
        "id": "view-in-github",
        "colab_type": "text"
      },
      "source": [
        "<a href=\"https://colab.research.google.com/github/u6k/ml-sandbox/blob/master/predict_1.ipynb\" target=\"_parent\"><img src=\"https://colab.research.google.com/assets/colab-badge.svg\" alt=\"Open In Colab\"/></a>"
      ]
    },
    {
      "cell_type": "code",
      "metadata": {
        "id": "euO8AXq-b-TK",
        "colab_type": "code",
        "colab": {}
      },
      "source": [
        "from google.colab import drive\n",
        "drive.mount(\"/content/drive\")"
      ],
      "execution_count": 0,
      "outputs": []
    },
    {
      "cell_type": "code",
      "metadata": {
        "id": "S0MjwqCERNyQ",
        "colab_type": "code",
        "colab": {}
      },
      "source": [
        "!pip install chainerrl comet_ml"
      ],
      "execution_count": 0,
      "outputs": []
    },
    {
      "cell_type": "code",
      "metadata": {
        "id": "Zi_9hBd0XMcb",
        "colab_type": "code",
        "colab": {}
      },
      "source": [
        "from comet_ml import Experiment\n",
        "\n",
        "experiment = Experiment(api_key=COMET_ML_API_KEY, project_name=\"predict-stocks.1\")"
      ],
      "execution_count": 0,
      "outputs": []
    },
    {
      "cell_type": "code",
      "metadata": {
        "id": "vMM9MGwZcF5C",
        "colab_type": "code",
        "colab": {}
      },
      "source": [
        "# CSVを読み込む\n",
        "\n",
        "import pandas as pd\n",
        "\n",
        "df_csv = pd.read_csv(\"drive/My Drive/projects/ml_data/stocks/nikkei_averages.csv\")\n",
        "df_csv"
      ],
      "execution_count": 0,
      "outputs": []
    },
    {
      "cell_type": "code",
      "metadata": {
        "id": "oGxc2V0R2of_",
        "colab_type": "code",
        "colab": {}
      },
      "source": [
        "import numpy as np\n",
        "\n",
        "df = df_csv.copy()\n",
        "\n",
        "df = df[[\"date\", \"opening_price\", \"high_price\", \"low_price\", \"close_price\"]]\n",
        "df = df.sort_values(\"date\")\n",
        "df = df.drop_duplicates()\n",
        "df = df.assign(id=np.arange(len(df)))\n",
        "df = df.set_index(\"id\")\n",
        "\n",
        "df"
      ],
      "execution_count": 0,
      "outputs": []
    },
    {
      "cell_type": "code",
      "metadata": {
        "id": "eP82V22o7Jdv",
        "colab_type": "code",
        "colab": {}
      },
      "source": [
        "import sklearn.preprocessing as sp\n",
        "\n",
        "df_input = df[-600:].copy()\n",
        "df_input = df_input.assign(scaled_close_price=sp.minmax_scale(df_input[\"close_price\"]))\n",
        "\n",
        "df_learn = df_input[:500].copy()\n",
        "df_test = df_input[500:].copy()\n",
        "\n",
        "df_input"
      ],
      "execution_count": 0,
      "outputs": []
    },
    {
      "cell_type": "code",
      "metadata": {
        "id": "_1DPvnfgy_pb",
        "colab_type": "code",
        "colab": {}
      },
      "source": [
        "df_learn"
      ],
      "execution_count": 0,
      "outputs": []
    },
    {
      "cell_type": "code",
      "metadata": {
        "id": "ok_NS8sYzA3p",
        "colab_type": "code",
        "colab": {}
      },
      "source": [
        "df_test"
      ],
      "execution_count": 0,
      "outputs": []
    },
    {
      "cell_type": "code",
      "metadata": {
        "id": "hd8GIgeLCmv1",
        "colab_type": "code",
        "colab": {}
      },
      "source": [
        "x, y = [], []\n",
        "\n",
        "INPUT_LEN = 20\n",
        "\n",
        "for row in range(len(df_learn) - INPUT_LEN):\n",
        "  x.append(df_learn[\"scaled_close_price\"][row:row+INPUT_LEN].values)\n",
        "  y.append(df_learn[\"scaled_close_price\"][row+INPUT_LEN:row+INPUT_LEN+1].values)\n",
        "\n",
        "x = np.array(x).reshape(len(x), INPUT_LEN, 1)\n",
        "y = np.array(y).reshape(len(y), 1)\n",
        "\n",
        "print(\"*** x ***\")\n",
        "print(len(x))\n",
        "print(x)\n",
        "print(\"*** y ***\")\n",
        "print(len(y))\n",
        "print(y)"
      ],
      "execution_count": 0,
      "outputs": []
    },
    {
      "cell_type": "code",
      "metadata": {
        "id": "t1DRuikRD7sP",
        "colab_type": "code",
        "colab": {}
      },
      "source": [
        "from keras.models import Sequential\n",
        "from keras.layers.core import Dense, Activation, Dropout\n",
        "from keras.layers.recurrent import LSTM\n",
        "from keras.optimizers import Adam\n",
        "from keras.callbacks import EarlyStopping\n",
        "\n",
        "length_of_sequence = INPUT_LEN\n",
        "in_out_neurons = 1\n",
        "n_hidden = 300\n",
        "\n",
        "batch_size = 128\n",
        "epochs = 500\n",
        "\n",
        "model = Sequential()\n",
        "model.add(LSTM(n_hidden,\n",
        "               return_sequences=True))\n",
        "model.add(Dropout(0.2))\n",
        "model.add(LSTM(n_hidden,\n",
        "               return_sequences=True))\n",
        "model.add(Dropout(0.2))\n",
        "model.add(LSTM(n_hidden,\n",
        "               return_sequences=True))\n",
        "model.add(Dropout(0.2))\n",
        "model.add(LSTM(n_hidden,\n",
        "               return_sequences=True))\n",
        "model.add(Dropout(0.2))\n",
        "model.add(LSTM(n_hidden,\n",
        "               return_sequences=True))\n",
        "model.add(Dropout(0.2))\n",
        "model.add(LSTM(n_hidden,\n",
        "               return_sequences=True))\n",
        "model.add(Dropout(0.2))\n",
        "model.add(LSTM(n_hidden,\n",
        "               return_sequences=True))\n",
        "model.add(Dropout(0.2))\n",
        "model.add(LSTM(n_hidden,\n",
        "               return_sequences=True))\n",
        "model.add(Dropout(0.2))\n",
        "model.add(LSTM(n_hidden,\n",
        "               return_sequences=True))\n",
        "model.add(Dropout(0.2))\n",
        "model.add(LSTM(n_hidden))\n",
        "model.add(Dense(in_out_neurons))\n",
        "model.add(Activation(\"linear\"))\n",
        "model.compile(loss=\"mean_squared_error\", optimizer=Adam(lr=0.001))\n",
        "\n",
        "history = model.fit(x,\n",
        "                    y,\n",
        "                    batch_size=batch_size,\n",
        "                    epochs=epochs,\n",
        "                    validation_split=0.2)"
      ],
      "execution_count": 0,
      "outputs": []
    },
    {
      "cell_type": "code",
      "metadata": {
        "id": "KErs7k3AE-Nx",
        "colab_type": "code",
        "colab": {}
      },
      "source": [
        "import matplotlib.pyplot as plt\n",
        "\n",
        "loss = history.history[\"loss\"]\n",
        "val_loss = history.history[\"val_loss\"]\n",
        "epochs = range(1, len(loss)+1)\n",
        "\n",
        "plt.plot(epochs, loss, \"bo\", label=\"Training loss\")\n",
        "plt.plot(epochs, val_loss, \"b\", label=\"Validation loss\")\n",
        "plt.title(\"Training and Validation loss\")\n",
        "plt.legend()\n",
        "plt.show()"
      ],
      "execution_count": 0,
      "outputs": []
    },
    {
      "cell_type": "code",
      "metadata": {
        "id": "IJ_TSR2D0Snq",
        "colab_type": "code",
        "colab": {}
      },
      "source": [
        "test_x, test_y = [], []\n",
        "\n",
        "INPUT_LEN = 20\n",
        "\n",
        "for row in range(len(df_test) - INPUT_LEN):\n",
        "  test_x.append(df_test[\"scaled_close_price\"][row:row+INPUT_LEN].values)\n",
        "  test_y.append(df_test[\"scaled_close_price\"][row+INPUT_LEN:row+INPUT_LEN+1].values)\n",
        "\n",
        "test_x = np.array(test_x).reshape(len(test_x), INPUT_LEN, 1)\n",
        "test_y = np.array(test_y).reshape(len(test_y), 1)\n",
        "\n",
        "print(\"*** test_x ***\")\n",
        "print(len(test_x))\n",
        "print(test_x)\n",
        "print(\"*** test_y ***\")\n",
        "print(len(test_y))\n",
        "print(test_y)"
      ],
      "execution_count": 0,
      "outputs": []
    },
    {
      "cell_type": "code",
      "metadata": {
        "id": "pzS-anK30flI",
        "colab_type": "code",
        "colab": {}
      },
      "source": [
        "result_y = model.predict(test_x)\n",
        "\n",
        "print(len(result_y))\n",
        "print(result_y)"
      ],
      "execution_count": 0,
      "outputs": []
    },
    {
      "cell_type": "code",
      "metadata": {
        "id": "_qeCe5HW1RrN",
        "colab_type": "code",
        "colab": {}
      },
      "source": [
        "df_result = pd.DataFrame({\"id\":np.arange(len(test_y)),\n",
        "                          \"original\":np.array(test_y).reshape(len(test_y)),\n",
        "                          \"predict\":np.array(result_y).reshape(len(result_y))})\n",
        "df_result = df_result.set_index(\"id\")\n",
        "\n",
        "experiment.log_asset_data(df_result.to_csv(), file_name=\"result.csv\")\n",
        "\n",
        "df_result"
      ],
      "execution_count": 0,
      "outputs": []
    },
    {
      "cell_type": "code",
      "metadata": {
        "id": "EW-zI9jt2XHI",
        "colab_type": "code",
        "colab": {}
      },
      "source": [
        "import matplotlib.pyplot as plt\n",
        "\n",
        "fig = plt.figure(figsize=(20, 5))\n",
        "subplot = fig.add_subplot(111)\n",
        "subplot.plot(df_result[\"original\"], label=\"original\")\n",
        "subplot.plot(df_result[\"predict\"], label=\"predict\")\n",
        "subplot.legend()\n",
        "\n",
        "plt.show()\n",
        "\n",
        "experiment.log_figure(figure_name=\"result\", figure=fig)"
      ],
      "execution_count": 0,
      "outputs": []
    },
    {
      "cell_type": "code",
      "metadata": {
        "id": "hmw9fUIR3DAp",
        "colab_type": "code",
        "colab": {}
      },
      "source": [
        "experiment.end()"
      ],
      "execution_count": 0,
      "outputs": []
    }
  ]
}